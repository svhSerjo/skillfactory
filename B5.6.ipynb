{
 "cells": [
  {
   "cell_type": "markdown",
   "metadata": {},
   "source": [
    "# Разбор итогового задания B5.6"
   ]
  },
  {
   "cell_type": "markdown",
   "metadata": {},
   "source": [
    "## Приветствие"
   ]
  },
  {
   "cell_type": "code",
   "execution_count": null,
   "metadata": {},
   "outputs": [],
   "source": [
    "def greet():\n",
    "    print(\"-------------------\")\n",
    "    print(\"  Приветсвуем вас  \")\n",
    "    print(\"      в игре       \")\n",
    "    print(\"  крестики-нолики  \")\n",
    "    print(\"-------------------\")\n",
    "    print(\" формат ввода: x y \")\n",
    "    print(\" x - номер строки  \")\n",
    "    print(\" y - номер столбца \")\n",
    "\n",
    "greet()"
   ]
  },
  {
   "cell_type": "markdown",
   "metadata": {},
   "source": [
    "## Создаём поле"
   ]
  },
  {
   "cell_type": "code",
   "execution_count": null,
   "metadata": {},
   "outputs": [],
   "source": [
    "field = [[\" \"] * 3 for i in range(3) ]"
   ]
  },
  {
   "cell_type": "markdown",
   "metadata": {},
   "source": [
    "## Выводим поле на экран"
   ]
  },
  {
   "cell_type": "markdown",
   "metadata": {},
   "source": [
    "#### Вывод \"как в образце\""
   ]
  },
  {
   "cell_type": "code",
   "execution_count": 3,
   "metadata": {},
   "outputs": [
    {
     "name": "stdout",
     "output_type": "stream",
     "text": [
      "  0 1 2\n",
      "0      \n",
      "1      \n",
      "2      \n"
     ]
    }
   ],
   "source": [
    "def show():\n",
    "    print(f\"  0 1 2\")\n",
    "    for i in range(3):\n",
    "        row_info = \" \".join(field[i])\n",
    "        print(f\"{i} {row_info}\")\n",
    "\n",
    "show()"
   ]
  },
  {
   "cell_type": "markdown",
   "metadata": {},
   "source": [
    "#### Второй вариант вывода"
   ]
  },
  {
   "cell_type": "code",
   "execution_count": 4,
   "metadata": {},
   "outputs": [
    {
     "name": "stdout",
     "output_type": "stream",
     "text": [
      "\n",
      "    | 0 | 1 | 2 | \n",
      "  --------------- \n",
      "  0 |   |   |   | \n",
      "  --------------- \n",
      "  1 |   |   |   | \n",
      "  --------------- \n",
      "  2 |   |   |   | \n",
      "  --------------- \n",
      "\n"
     ]
    }
   ],
   "source": [
    "def show():\n",
    "    print()\n",
    "    print(\"    | 0 | 1 | 2 | \")\n",
    "    print(\"  --------------- \")\n",
    "    for i, row in enumerate(field):\n",
    "        row_str = f\"  {i} | {' | '.join(row)} | \"\n",
    "        print(row_str)\n",
    "        print(\"  --------------- \")\n",
    "    print()\n",
    "\n",
    "show()"
   ]
  },
  {
   "cell_type": "markdown",
   "metadata": {},
   "source": [
    "## Спрашиваем координаты у пользователя"
   ]
  },
  {
   "cell_type": "markdown",
   "metadata": {},
   "source": [
    "#### Простой вариант функции"
   ]
  },
  {
   "cell_type": "code",
   "execution_count": 6,
   "metadata": {},
   "outputs": [
    {
     "name": "stdin",
     "output_type": "stream",
     "text": [
      "         Ваш ход:  1 2\n"
     ]
    },
    {
     "data": {
      "text/plain": [
       "(1, 2)"
      ]
     },
     "execution_count": 6,
     "metadata": {},
     "output_type": "execute_result"
    }
   ],
   "source": [
    "def ask():\n",
    "    x, y = map(int, input(\"         Ваш ход: \").split())\n",
    "    return x, y\n",
    "ask()"
   ]
  },
  {
   "cell_type": "markdown",
   "metadata": {},
   "source": [
    "#### Вариант с базовыми проверками"
   ]
  },
  {
   "cell_type": "code",
   "execution_count": 8,
   "metadata": {},
   "outputs": [
    {
     "name": "stdin",
     "output_type": "stream",
     "text": [
      "         Ваш ход:  1 4\n"
     ]
    },
    {
     "name": "stdout",
     "output_type": "stream",
     "text": [
      " Координаты вне диапазона! \n"
     ]
    },
    {
     "name": "stdin",
     "output_type": "stream",
     "text": [
      "         Ваш ход:  1 1\n"
     ]
    },
    {
     "data": {
      "text/plain": [
       "(1, 1)"
      ]
     },
     "execution_count": 8,
     "metadata": {},
     "output_type": "execute_result"
    }
   ],
   "source": [
    "def ask():\n",
    "    while True:\n",
    "        x, y = map(int, input(\"         Ваш ход: \").split())\n",
    "        \n",
    "        if 0 > x or x > 2 or  0 > y or  y > 2 :\n",
    "            print(\" Координаты вне диапазона! \")\n",
    "            continue\n",
    "        \n",
    "        if field[x][y] != \" \":\n",
    "            print(\" Клетка занята! \")\n",
    "            continue\n",
    "        \n",
    "        return x, y\n",
    "ask()"
   ]
  },
  {
   "cell_type": "markdown",
   "metadata": {},
   "source": [
    "#### Дополнительные проверки"
   ]
  },
  {
   "cell_type": "code",
   "execution_count": 29,
   "metadata": {},
   "outputs": [
    {
     "name": "stdin",
     "output_type": "stream",
     "text": [
      "         Ваш ход:  123123123\n"
     ]
    },
    {
     "name": "stdout",
     "output_type": "stream",
     "text": [
      " Введите 2 координаты! \n"
     ]
    },
    {
     "name": "stdin",
     "output_type": "stream",
     "text": [
      "         Ваш ход:  12 abc\n"
     ]
    },
    {
     "name": "stdout",
     "output_type": "stream",
     "text": [
      " Введите числа! \n"
     ]
    },
    {
     "name": "stdin",
     "output_type": "stream",
     "text": [
      "         Ваш ход:  12 1\n"
     ]
    },
    {
     "name": "stdout",
     "output_type": "stream",
     "text": [
      " Координаты вне диапазона! \n"
     ]
    },
    {
     "name": "stdin",
     "output_type": "stream",
     "text": [
      "         Ваш ход:  0 1\n"
     ]
    },
    {
     "name": "stdout",
     "output_type": "stream",
     "text": [
      " Клетка занята! \n"
     ]
    },
    {
     "name": "stdin",
     "output_type": "stream",
     "text": [
      "         Ваш ход:  1 2\n"
     ]
    },
    {
     "data": {
      "text/plain": [
       "(1, 2)"
      ]
     },
     "execution_count": 29,
     "metadata": {},
     "output_type": "execute_result"
    }
   ],
   "source": [
    "def ask():\n",
    "    while True:\n",
    "        cords = input(\"         Ваш ход: \").split()\n",
    "        \n",
    "        if len(cords) != 2:\n",
    "            print(\" Введите 2 координаты! \")\n",
    "            continue\n",
    "        \n",
    "        x, y = cords\n",
    "        \n",
    "        if not(x.isdigit()) or not(y.isdigit()):\n",
    "            print(\" Введите числа! \")\n",
    "            continue\n",
    "        \n",
    "        x, y = int(x), int(y)\n",
    "        \n",
    "        if 0 > x or x > 2 or  0 > y or  y > 2 :\n",
    "            print(\" Координаты вне диапазона! \")\n",
    "            continue\n",
    "        \n",
    "        if field[x][y] != \" \":\n",
    "            print(\" Клетка занята! \")\n",
    "            continue\n",
    "        \n",
    "        return x, y\n",
    "            \n",
    "ask()"
   ]
  },
  {
   "cell_type": "markdown",
   "metadata": {},
   "source": [
    "#### Проверка выигрышных комбинаций"
   ]
  },
  {
   "cell_type": "code",
   "execution_count": 9,
   "metadata": {},
   "outputs": [
    {
     "name": "stdout",
     "output_type": "stream",
     "text": [
      "Выиграл X!!!\n"
     ]
    },
    {
     "data": {
      "text/plain": [
       "True"
      ]
     },
     "execution_count": 9,
     "metadata": {},
     "output_type": "execute_result"
    }
   ],
   "source": [
    "def check_win():\n",
    "    win_cord = (((0, 0), (0, 1), (0, 2)), ((1, 0), (1, 1), (1, 2)), ((2, 0), (2, 1), (2, 2)),\n",
    "                ((0, 2), (1, 1), (2, 0)), ((0, 0), (1, 1), (2, 2)), ((0, 0), (1, 0), (2, 0)),\n",
    "                ((0, 1), (1, 1), (2, 1)), ((0, 2), (1, 2), (2, 2)))\n",
    "    for cord in win_cord:\n",
    "        symbols = []\n",
    "        for c in cord:\n",
    "            symbols.append(field[c[0]][c[1]])\n",
    "        if symbols == [\"X\", \"X\", \"X\"]:\n",
    "            print(\"Выиграл X!!!\")\n",
    "            return True\n",
    "        if symbols == [\"0\", \"0\", \"0\"]:\n",
    "            print(\"Выиграл 0!!!\")\n",
    "            return True\n",
    "    return False\n",
    "\n",
    "field = [\n",
    "    [\" \", \"X\", \" \"],\n",
    "    [\" \", \"X\", \" \"],\n",
    "    [\" \", \"X\", \" \"]\n",
    "]\n",
    "\n",
    "check_win()"
   ]
  },
  {
   "cell_type": "markdown",
   "metadata": {},
   "source": [
    "## Игровой цикл"
   ]
  },
  {
   "cell_type": "code",
   "execution_count": 58,
   "metadata": {},
   "outputs": [
    {
     "name": "stdout",
     "output_type": "stream",
     "text": [
      "\n",
      "    | 0 | 1 | 2 | \n",
      "  --------------- \n",
      "  0 |   |   |   | \n",
      "  --------------- \n",
      "  1 |   |   |   | \n",
      "  --------------- \n",
      "  2 |   |   |   | \n",
      "  --------------- \n",
      "\n",
      " Ходит крестик!\n"
     ]
    },
    {
     "name": "stdin",
     "output_type": "stream",
     "text": [
      "         Ваш ход:  0 0\n"
     ]
    },
    {
     "name": "stdout",
     "output_type": "stream",
     "text": [
      "\n",
      "    | 0 | 1 | 2 | \n",
      "  --------------- \n",
      "  0 | X |   |   | \n",
      "  --------------- \n",
      "  1 |   |   |   | \n",
      "  --------------- \n",
      "  2 |   |   |   | \n",
      "  --------------- \n",
      "\n",
      " Ходит нолик!\n"
     ]
    },
    {
     "name": "stdin",
     "output_type": "stream",
     "text": [
      "         Ваш ход:  0 1\n"
     ]
    },
    {
     "name": "stdout",
     "output_type": "stream",
     "text": [
      "\n",
      "    | 0 | 1 | 2 | \n",
      "  --------------- \n",
      "  0 | X | 0 |   | \n",
      "  --------------- \n",
      "  1 |   |   |   | \n",
      "  --------------- \n",
      "  2 |   |   |   | \n",
      "  --------------- \n",
      "\n",
      " Ходит крестик!\n"
     ]
    },
    {
     "name": "stdin",
     "output_type": "stream",
     "text": [
      "         Ваш ход:  1 0\n"
     ]
    },
    {
     "name": "stdout",
     "output_type": "stream",
     "text": [
      "\n",
      "    | 0 | 1 | 2 | \n",
      "  --------------- \n",
      "  0 | X | 0 |   | \n",
      "  --------------- \n",
      "  1 | X |   |   | \n",
      "  --------------- \n",
      "  2 |   |   |   | \n",
      "  --------------- \n",
      "\n",
      " Ходит нолик!\n"
     ]
    },
    {
     "name": "stdin",
     "output_type": "stream",
     "text": [
      "         Ваш ход:  1 1\n"
     ]
    },
    {
     "name": "stdout",
     "output_type": "stream",
     "text": [
      "\n",
      "    | 0 | 1 | 2 | \n",
      "  --------------- \n",
      "  0 | X | 0 |   | \n",
      "  --------------- \n",
      "  1 | X | 0 |   | \n",
      "  --------------- \n",
      "  2 |   |   |   | \n",
      "  --------------- \n",
      "\n",
      " Ходит крестик!\n"
     ]
    },
    {
     "name": "stdin",
     "output_type": "stream",
     "text": [
      "         Ваш ход:  2 1\n"
     ]
    },
    {
     "name": "stdout",
     "output_type": "stream",
     "text": [
      "\n",
      "    | 0 | 1 | 2 | \n",
      "  --------------- \n",
      "  0 | X | 0 |   | \n",
      "  --------------- \n",
      "  1 | X | 0 |   | \n",
      "  --------------- \n",
      "  2 |   | X |   | \n",
      "  --------------- \n",
      "\n",
      " Ходит нолик!\n"
     ]
    },
    {
     "name": "stdin",
     "output_type": "stream",
     "text": [
      "         Ваш ход:  2 2\n"
     ]
    },
    {
     "name": "stdout",
     "output_type": "stream",
     "text": [
      "\n",
      "    | 0 | 1 | 2 | \n",
      "  --------------- \n",
      "  0 | X | 0 |   | \n",
      "  --------------- \n",
      "  1 | X | 0 |   | \n",
      "  --------------- \n",
      "  2 |   | X | 0 | \n",
      "  --------------- \n",
      "\n",
      " Ходит крестик!\n"
     ]
    },
    {
     "name": "stdin",
     "output_type": "stream",
     "text": [
      "         Ваш ход:  2 0\n"
     ]
    },
    {
     "name": "stdout",
     "output_type": "stream",
     "text": [
      "Выиграл X!!!\n"
     ]
    }
   ],
   "source": [
    "greet()\n",
    "field = [[\" \"] * 3 for i in range(3) ]\n",
    "count = 0\n",
    "while True:\n",
    "    count += 1\n",
    "    show()\n",
    "    if count % 2 == 1:\n",
    "        print(\" Ходит крестик!\")\n",
    "    else:\n",
    "        print(\" Ходит нолик!\")\n",
    "    \n",
    "    x, y = ask()\n",
    "    \n",
    "    if count % 2 == 1:\n",
    "        field[x][y] = \"X\"\n",
    "    else:\n",
    "        field[x][y] = \"0\"\n",
    "    \n",
    "    if check_win():\n",
    "        break\n",
    "    \n",
    "    if count == 9:\n",
    "        print(\" Ничья!\")\n",
    "        break"
   ]
  }
 ],
 "metadata": {
  "kernelspec": {
   "display_name": "Python 3",
   "language": "python",
   "name": "python3"
  },
  "language_info": {
   "codemirror_mode": {
    "name": "ipython",
    "version": 3
   },
   "file_extension": ".py",
   "mimetype": "text/x-python",
   "name": "python",
   "nbconvert_exporter": "python",
   "pygments_lexer": "ipython3",
   "version": "3.7.6"
  }
 },
 "nbformat": 4,
 "nbformat_minor": 4
}
